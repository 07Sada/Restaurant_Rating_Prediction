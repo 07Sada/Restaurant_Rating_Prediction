{
 "cells": [
  {
   "cell_type": "code",
   "execution_count": 34,
   "metadata": {},
   "outputs": [],
   "source": [
    "import pandas as pd \n",
    "import numpy as np \n",
    "import dill\n",
    "from sklearn.metrics import r2_score"
   ]
  },
  {
   "cell_type": "code",
   "execution_count": 35,
   "metadata": {},
   "outputs": [],
   "source": [
    "base_df = pd.read_csv('zomato_cleaned.csv')"
   ]
  },
  {
   "cell_type": "code",
   "execution_count": 36,
   "metadata": {},
   "outputs": [],
   "source": [
    "from restr_rating import utils\n",
    "from restr_rating.exception import RatingException\n",
    "from restr_rating.logger import logging"
   ]
  },
  {
   "cell_type": "code",
   "execution_count": 39,
   "metadata": {},
   "outputs": [],
   "source": [
    "model = utils.load_object(\"/config/workspace/artifact/02_20_2023__08_50_21/model_trainer/model/model.pkl\")"
   ]
  },
  {
   "cell_type": "code",
   "execution_count": 3,
   "metadata": {},
   "outputs": [],
   "source": [
    "transformer = utils.load_object(\"/config/workspace/artifact/02_19_2023__10_11_56/data_transformation/transformer/transformer.pkl\")"
   ]
  },
  {
   "cell_type": "code",
   "execution_count": 7,
   "metadata": {},
   "outputs": [],
   "source": [
    "data = utils.load_numpy_array(\"/config/workspace/artifact/02_19_2023__10_11_56/data_transformation/transformed/train.npz\")"
   ]
  },
  {
   "cell_type": "code",
   "execution_count": 10,
   "metadata": {},
   "outputs": [
    {
     "data": {
      "text/plain": [
       "array([3.600e+00, 8.000e+02, 2.300e+01, 5.318e+03, 0.000e+00, 1.000e+00,\n",
       "       4.600e+01, 0.000e+00, 1.190e+02, 0.000e+00, 2.000e+00, 1.700e+01])"
      ]
     },
     "execution_count": 10,
     "metadata": {},
     "output_type": "execute_result"
    }
   ],
   "source": [
    "data[0]"
   ]
  },
  {
   "cell_type": "code",
   "execution_count": 40,
   "metadata": {},
   "outputs": [],
   "source": [
    "def encode_categorical_variables(base: pd.DataFrame, train_df: pd.DataFrame, test_df: pd.DataFrame) -> (pd.DataFrame, pd.DataFrame):\n",
    "    # fit .factorize() method on base_df\n",
    "        try:\n",
    "            unique_values = {}\n",
    "            encoded_base = pd.DataFrame()\n",
    "            for column in base.columns:\n",
    "                unique_values[column] = base[column].unique()\n",
    "\n",
    "            # transform categorical variables in train_df and test_df using unique values\n",
    "            for column in train_df.columns:\n",
    "                if train_df[column].dtype == 'object':\n",
    "                    train_df[column] = pd.Categorical(train_df[column], categories=unique_values[column]).codes\n",
    "                if test_df[column].dtype == 'object':\n",
    "                    test_df[column] = pd.Categorical(test_df[column], categories=unique_values[column]).codes\n",
    "                else:\n",
    "                    encoded_base[column] = base[column]\n",
    "\n",
    "            # utils.save_encoding_to_dill(unique_values=unique_values, encoded_base=base, file_path=file_path)\n",
    "            return train_df, test_df\n",
    "        except Exception as e:\n",
    "            raise RatingException(e, sys)"
   ]
  },
  {
   "cell_type": "code",
   "execution_count": 41,
   "metadata": {},
   "outputs": [],
   "source": [
    "base_file = pd.concat(pd.read_csv('/config/workspace/zomato_cleaned.csv', chunksize = 5000)).drop(['address', 'reviews_list'], axis=1)\n",
    "train_file = pd.concat(pd.read_csv(\"/config/workspace/artifact/02_19_2023__11_59_43/data_ingestion/dataset/train.csv\", chunksize = 5000)).drop(['address', 'reviews_list'], axis=1)\n",
    "test_file = pd.concat(pd.read_csv(\"/config/workspace/artifact/02_19_2023__11_59_43/data_ingestion/dataset/test.csv\", chunksize = 5000)).drop(['address', 'reviews_list'], axis=1)"
   ]
  },
  {
   "cell_type": "code",
   "execution_count": 42,
   "metadata": {},
   "outputs": [],
   "source": [
    "train_df, test_df = encode_categorical_variables(base=base_file, test_df=test_file, train_df=train_file)"
   ]
  },
  {
   "cell_type": "code",
   "execution_count": 7,
   "metadata": {},
   "outputs": [
    {
     "data": {
      "text/html": [
       "<div>\n",
       "<style scoped>\n",
       "    .dataframe tbody tr th:only-of-type {\n",
       "        vertical-align: middle;\n",
       "    }\n",
       "\n",
       "    .dataframe tbody tr th {\n",
       "        vertical-align: top;\n",
       "    }\n",
       "\n",
       "    .dataframe thead th {\n",
       "        text-align: right;\n",
       "    }\n",
       "</style>\n",
       "<table border=\"1\" class=\"dataframe\">\n",
       "  <thead>\n",
       "    <tr style=\"text-align: right;\">\n",
       "      <th></th>\n",
       "      <th>name</th>\n",
       "      <th>online_order</th>\n",
       "      <th>book_table</th>\n",
       "      <th>rate</th>\n",
       "      <th>votes</th>\n",
       "      <th>location</th>\n",
       "      <th>rest_type</th>\n",
       "      <th>cuisines</th>\n",
       "      <th>cost</th>\n",
       "      <th>menu_item</th>\n",
       "      <th>type</th>\n",
       "      <th>city</th>\n",
       "    </tr>\n",
       "  </thead>\n",
       "  <tbody>\n",
       "    <tr>\n",
       "      <th>0</th>\n",
       "      <td>5318</td>\n",
       "      <td>0</td>\n",
       "      <td>1</td>\n",
       "      <td>3.6</td>\n",
       "      <td>23</td>\n",
       "      <td>46</td>\n",
       "      <td>0</td>\n",
       "      <td>119</td>\n",
       "      <td>800</td>\n",
       "      <td>0</td>\n",
       "      <td>2</td>\n",
       "      <td>17</td>\n",
       "    </tr>\n",
       "    <tr>\n",
       "      <th>1</th>\n",
       "      <td>2831</td>\n",
       "      <td>0</td>\n",
       "      <td>1</td>\n",
       "      <td>3.2</td>\n",
       "      <td>8</td>\n",
       "      <td>25</td>\n",
       "      <td>21</td>\n",
       "      <td>63</td>\n",
       "      <td>400</td>\n",
       "      <td>8145</td>\n",
       "      <td>4</td>\n",
       "      <td>29</td>\n",
       "    </tr>\n",
       "    <tr>\n",
       "      <th>2</th>\n",
       "      <td>2677</td>\n",
       "      <td>0</td>\n",
       "      <td>0</td>\n",
       "      <td>3.8</td>\n",
       "      <td>360</td>\n",
       "      <td>68</td>\n",
       "      <td>27</td>\n",
       "      <td>1937</td>\n",
       "      <td>1300</td>\n",
       "      <td>3883</td>\n",
       "      <td>2</td>\n",
       "      <td>15</td>\n",
       "    </tr>\n",
       "    <tr>\n",
       "      <th>3</th>\n",
       "      <td>995</td>\n",
       "      <td>1</td>\n",
       "      <td>1</td>\n",
       "      <td>3.1</td>\n",
       "      <td>7</td>\n",
       "      <td>11</td>\n",
       "      <td>2</td>\n",
       "      <td>475</td>\n",
       "      <td>250</td>\n",
       "      <td>0</td>\n",
       "      <td>2</td>\n",
       "      <td>13</td>\n",
       "    </tr>\n",
       "    <tr>\n",
       "      <th>4</th>\n",
       "      <td>4205</td>\n",
       "      <td>0</td>\n",
       "      <td>0</td>\n",
       "      <td>4.3</td>\n",
       "      <td>686</td>\n",
       "      <td>28</td>\n",
       "      <td>0</td>\n",
       "      <td>244</td>\n",
       "      <td>1000</td>\n",
       "      <td>0</td>\n",
       "      <td>4</td>\n",
       "      <td>11</td>\n",
       "    </tr>\n",
       "    <tr>\n",
       "      <th>...</th>\n",
       "      <td>...</td>\n",
       "      <td>...</td>\n",
       "      <td>...</td>\n",
       "      <td>...</td>\n",
       "      <td>...</td>\n",
       "      <td>...</td>\n",
       "      <td>...</td>\n",
       "      <td>...</td>\n",
       "      <td>...</td>\n",
       "      <td>...</td>\n",
       "      <td>...</td>\n",
       "      <td>...</td>\n",
       "    </tr>\n",
       "    <tr>\n",
       "      <th>32984</th>\n",
       "      <td>2861</td>\n",
       "      <td>0</td>\n",
       "      <td>1</td>\n",
       "      <td>4.0</td>\n",
       "      <td>121</td>\n",
       "      <td>55</td>\n",
       "      <td>2</td>\n",
       "      <td>1217</td>\n",
       "      <td>900</td>\n",
       "      <td>0</td>\n",
       "      <td>4</td>\n",
       "      <td>5</td>\n",
       "    </tr>\n",
       "    <tr>\n",
       "      <th>32985</th>\n",
       "      <td>2596</td>\n",
       "      <td>0</td>\n",
       "      <td>1</td>\n",
       "      <td>2.9</td>\n",
       "      <td>24</td>\n",
       "      <td>15</td>\n",
       "      <td>0</td>\n",
       "      <td>5</td>\n",
       "      <td>600</td>\n",
       "      <td>0</td>\n",
       "      <td>4</td>\n",
       "      <td>8</td>\n",
       "    </tr>\n",
       "    <tr>\n",
       "      <th>32986</th>\n",
       "      <td>2050</td>\n",
       "      <td>1</td>\n",
       "      <td>0</td>\n",
       "      <td>4.3</td>\n",
       "      <td>2741</td>\n",
       "      <td>32</td>\n",
       "      <td>33</td>\n",
       "      <td>746</td>\n",
       "      <td>1300</td>\n",
       "      <td>0</td>\n",
       "      <td>2</td>\n",
       "      <td>27</td>\n",
       "    </tr>\n",
       "    <tr>\n",
       "      <th>32987</th>\n",
       "      <td>583</td>\n",
       "      <td>0</td>\n",
       "      <td>0</td>\n",
       "      <td>4.0</td>\n",
       "      <td>199</td>\n",
       "      <td>8</td>\n",
       "      <td>2</td>\n",
       "      <td>130</td>\n",
       "      <td>700</td>\n",
       "      <td>248</td>\n",
       "      <td>2</td>\n",
       "      <td>1</td>\n",
       "    </tr>\n",
       "    <tr>\n",
       "      <th>32988</th>\n",
       "      <td>2776</td>\n",
       "      <td>0</td>\n",
       "      <td>1</td>\n",
       "      <td>3.6</td>\n",
       "      <td>36</td>\n",
       "      <td>12</td>\n",
       "      <td>13</td>\n",
       "      <td>142</td>\n",
       "      <td>200</td>\n",
       "      <td>0</td>\n",
       "      <td>2</td>\n",
       "      <td>12</td>\n",
       "    </tr>\n",
       "  </tbody>\n",
       "</table>\n",
       "<p>32989 rows × 12 columns</p>\n",
       "</div>"
      ],
      "text/plain": [
       "       name  online_order  book_table  rate  votes  location  rest_type  \\\n",
       "0      5318             0           1   3.6     23        46          0   \n",
       "1      2831             0           1   3.2      8        25         21   \n",
       "2      2677             0           0   3.8    360        68         27   \n",
       "3       995             1           1   3.1      7        11          2   \n",
       "4      4205             0           0   4.3    686        28          0   \n",
       "...     ...           ...         ...   ...    ...       ...        ...   \n",
       "32984  2861             0           1   4.0    121        55          2   \n",
       "32985  2596             0           1   2.9     24        15          0   \n",
       "32986  2050             1           0   4.3   2741        32         33   \n",
       "32987   583             0           0   4.0    199         8          2   \n",
       "32988  2776             0           1   3.6     36        12         13   \n",
       "\n",
       "       cuisines  cost  menu_item  type  city  \n",
       "0           119   800          0     2    17  \n",
       "1            63   400       8145     4    29  \n",
       "2          1937  1300       3883     2    15  \n",
       "3           475   250          0     2    13  \n",
       "4           244  1000          0     4    11  \n",
       "...         ...   ...        ...   ...   ...  \n",
       "32984      1217   900          0     4     5  \n",
       "32985         5   600          0     4     8  \n",
       "32986       746  1300          0     2    27  \n",
       "32987       130   700        248     2     1  \n",
       "32988       142   200          0     2    12  \n",
       "\n",
       "[32989 rows x 12 columns]"
      ]
     },
     "execution_count": 7,
     "metadata": {},
     "output_type": "execute_result"
    }
   ],
   "source": [
    "train_df"
   ]
  },
  {
   "cell_type": "code",
   "execution_count": 18,
   "metadata": {},
   "outputs": [
    {
     "name": "stdout",
     "output_type": "stream",
     "text": [
      "<class 'pandas.core.frame.DataFrame'>\n",
      "RangeIndex: 8248 entries, 0 to 8247\n",
      "Data columns (total 12 columns):\n",
      " #   Column        Non-Null Count  Dtype  \n",
      "---  ------        --------------  -----  \n",
      " 0   name          8248 non-null   int16  \n",
      " 1   online_order  8248 non-null   int8   \n",
      " 2   book_table    8248 non-null   int8   \n",
      " 3   rate          8248 non-null   float64\n",
      " 4   votes         8248 non-null   int64  \n",
      " 5   location      8248 non-null   int8   \n",
      " 6   rest_type     8248 non-null   int8   \n",
      " 7   cuisines      8248 non-null   int16  \n",
      " 8   cost          8248 non-null   int64  \n",
      " 9   menu_item     8248 non-null   int16  \n",
      " 10  type          8248 non-null   int8   \n",
      " 11  city          8248 non-null   int8   \n",
      "dtypes: float64(1), int16(3), int64(2), int8(6)\n",
      "memory usage: 290.1 KB\n"
     ]
    }
   ],
   "source": [
    "test_df.info()"
   ]
  },
  {
   "cell_type": "code",
   "execution_count": 24,
   "metadata": {},
   "outputs": [],
   "source": [
    "# loading the model\n",
    "model = utils.load_object(\"/config/workspace/artifact/02_20_2023__07_52_27/model_trainer/model/model.pkl\")"
   ]
  },
  {
   "cell_type": "code",
   "execution_count": 21,
   "metadata": {},
   "outputs": [],
   "source": [
    "def save_numpy_array_data(file_path:str, df:pd.DataFrame):\n",
    "    \"\"\"\n",
    "    Save Pandas DataFrame data as a NumPy array to file\n",
    "    file_path: str location of file to save\n",
    "    df: pd.DataFrame data to save\n",
    "    \"\"\"\n",
    "    try:\n",
    "        dir_path = os.path.dirname(file_path)\n",
    "        os.makedirs(dir_path, exist_ok=True)\n",
    "        array = df.to_numpy()  # Convert DataFrame to NumPy array\n",
    "        with open(file_path, \"wb\") as file_obj:\n",
    "            np.save(file_obj, array)\n",
    "    except Exception as e:\n",
    "        raise RatingException(e, sys)\n",
    "\n"
   ]
  },
  {
   "cell_type": "code",
   "execution_count": 43,
   "metadata": {},
   "outputs": [],
   "source": [
    "def load_numpy_array(file_path:str)->np.array:\n",
    "    \"\"\"\n",
    "    load numpy array data from file \n",
    "    file_path: str location of file to load\n",
    "    return np.array data loaded\n",
    "    \"\"\"\n",
    "    try:\n",
    "        with open(file_path,\"rb\") as file_obj:\n",
    "            return np.load(file_obj, allow_pickle=True)\n",
    "    except Exception as e:\n",
    "        raise RatingException(e, sys)"
   ]
  },
  {
   "cell_type": "code",
   "execution_count": 13,
   "metadata": {},
   "outputs": [],
   "source": [
    "test_data = load_numpy_array(\"/config/workspace/artifact/02_20_2023__08_50_21/data_transformation/transformed/test.npz\")"
   ]
  },
  {
   "cell_type": "code",
   "execution_count": 44,
   "metadata": {},
   "outputs": [],
   "source": [
    "train_data = load_numpy_array(\"/config/workspace/artifact/02_20_2023__08_50_21/data_transformation/transformed/train.npz\")"
   ]
  },
  {
   "cell_type": "code",
   "execution_count": 20,
   "metadata": {},
   "outputs": [
    {
     "data": {
      "text/plain": [
       "(8248, 12)"
      ]
     },
     "execution_count": 20,
     "metadata": {},
     "output_type": "execute_result"
    }
   ],
   "source": [
    "test_data.shape"
   ]
  },
  {
   "cell_type": "code",
   "execution_count": null,
   "metadata": {},
   "outputs": [],
   "source": [
    "\n",
    "y_hat_train = model.predict(x_train)\n",
    "r2_train_score = r2_score(y_true=y_train, y_pred=y_hat_train)\n",
    "logging.info(f\"r2 score for the train dattase:[{r2_train_score}]\")\n",
    "\n",
    "y_hat_test = model.predict(x_test)\n",
    "r2_test_score = r2_score(y_true=y_test, y_pred=y_hat_test)\n",
    "logging.info(f\"r2 score for the test dattase:[{r2_test_score}]\")\n"
   ]
  },
  {
   "cell_type": "code",
   "execution_count": 45,
   "metadata": {},
   "outputs": [],
   "source": [
    "x_test, y_test = test_data[:,1:], test_data[:,0]\n",
    "x_train , y_train = train_data[:,1:], train_data[:,0]"
   ]
  },
  {
   "cell_type": "code",
   "execution_count": 21,
   "metadata": {},
   "outputs": [
    {
     "data": {
      "text/plain": [
       "(8248, 11)"
      ]
     },
     "execution_count": 21,
     "metadata": {},
     "output_type": "execute_result"
    }
   ],
   "source": [
    "x_test.shape"
   ]
  },
  {
   "cell_type": "code",
   "execution_count": 17,
   "metadata": {},
   "outputs": [
    {
     "data": {
      "text/plain": [
       "array([2. , 2.1, 2.2, 2.3, 2.4, 2.5, 2.6, 2.7, 2.8, 2.9, 3. , 3.1, 3.2,\n",
       "       3.3, 3.4, 3.5, 3.6, 3.7, 3.8, 3.9, 4. , 4.1, 4.2, 4.3, 4.4, 4.5,\n",
       "       4.6, 4.7, 4.8, 4.9])"
      ]
     },
     "execution_count": 17,
     "metadata": {},
     "output_type": "execute_result"
    }
   ],
   "source": [
    "np.unique(y_test)"
   ]
  },
  {
   "cell_type": "code",
   "execution_count": 46,
   "metadata": {},
   "outputs": [
    {
     "data": {
      "text/plain": [
       "0.923191398984183"
      ]
     },
     "execution_count": 46,
     "metadata": {},
     "output_type": "execute_result"
    }
   ],
   "source": [
    "y_hat_test = model.predict(x_test)\n",
    "r2_score(y_true=y_test, y_pred=y_hat_test)"
   ]
  },
  {
   "cell_type": "code",
   "execution_count": 48,
   "metadata": {},
   "outputs": [
    {
     "data": {
      "text/plain": [
       "1.0"
      ]
     },
     "execution_count": 48,
     "metadata": {},
     "output_type": "execute_result"
    },
    {
     "ename": "",
     "evalue": "",
     "output_type": "error",
     "traceback": [
      "\u001b[1;31mThe Kernel crashed while executing code in the the current cell or a previous cell. Please review the code in the cell(s) to identify a possible cause of the failure. Click <a href='https://aka.ms/vscodeJupyterKernelCrash'>here</a> for more info. View Jupyter <a href='command:jupyter.viewOutput'>log</a> for further details."
     ]
    }
   ],
   "source": [
    "y_hat_train = model.predict(x_train)\n",
    "r2_score(y_true=y_train, y_pred=y_hat_train)"
   ]
  },
  {
   "cell_type": "code",
   "execution_count": null,
   "metadata": {},
   "outputs": [],
   "source": [
    "train_df"
   ]
  },
  {
   "cell_type": "code",
   "execution_count": 29,
   "metadata": {},
   "outputs": [
    {
     "ename": "NameError",
     "evalue": "name 'x_train' is not defined",
     "output_type": "error",
     "traceback": [
      "\u001b[0;31m---------------------------------------------------------------------------\u001b[0m",
      "\u001b[0;31mNameError\u001b[0m                                 Traceback (most recent call last)",
      "Cell \u001b[0;32mIn[29], line 1\u001b[0m\n\u001b[0;32m----> 1\u001b[0m \u001b[43mx_train\u001b[49m\n",
      "\u001b[0;31mNameError\u001b[0m: name 'x_train' is not defined"
     ]
    }
   ],
   "source": [
    "x_train"
   ]
  },
  {
   "cell_type": "code",
   "execution_count": 28,
   "metadata": {},
   "outputs": [
    {
     "ename": "InvalidIndexError",
     "evalue": "(slice(None, None, None), slice(1, None, None))",
     "output_type": "error",
     "traceback": [
      "\u001b[0;31m---------------------------------------------------------------------------\u001b[0m",
      "\u001b[0;31mTypeError\u001b[0m                                 Traceback (most recent call last)",
      "File \u001b[0;32m~/.local/lib/python3.8/site-packages/pandas/core/indexes/base.py:3802\u001b[0m, in \u001b[0;36mIndex.get_loc\u001b[0;34m(self, key, method, tolerance)\u001b[0m\n\u001b[1;32m   3801\u001b[0m \u001b[39mtry\u001b[39;00m:\n\u001b[0;32m-> 3802\u001b[0m     \u001b[39mreturn\u001b[39;00m \u001b[39mself\u001b[39;49m\u001b[39m.\u001b[39;49m_engine\u001b[39m.\u001b[39;49mget_loc(casted_key)\n\u001b[1;32m   3803\u001b[0m \u001b[39mexcept\u001b[39;00m \u001b[39mKeyError\u001b[39;00m \u001b[39mas\u001b[39;00m err:\n",
      "File \u001b[0;32m~/.local/lib/python3.8/site-packages/pandas/_libs/index.pyx:138\u001b[0m, in \u001b[0;36mpandas._libs.index.IndexEngine.get_loc\u001b[0;34m()\u001b[0m\n",
      "File \u001b[0;32m~/.local/lib/python3.8/site-packages/pandas/_libs/index.pyx:144\u001b[0m, in \u001b[0;36mpandas._libs.index.IndexEngine.get_loc\u001b[0;34m()\u001b[0m\n",
      "\u001b[0;31mTypeError\u001b[0m: '(slice(None, None, None), slice(1, None, None))' is an invalid key",
      "\nDuring handling of the above exception, another exception occurred:\n",
      "\u001b[0;31mInvalidIndexError\u001b[0m                         Traceback (most recent call last)",
      "Cell \u001b[0;32mIn[28], line 1\u001b[0m\n\u001b[0;32m----> 1\u001b[0m x_train, y_train \u001b[38;5;241m=\u001b[39m \u001b[43mtrain_df\u001b[49m\u001b[43m[\u001b[49m\u001b[43m:\u001b[49m\u001b[43m,\u001b[49m\u001b[38;5;241;43m1\u001b[39;49m\u001b[43m:\u001b[49m\u001b[43m]\u001b[49m, train_df[:,\u001b[38;5;241m0\u001b[39m]\n",
      "File \u001b[0;32m~/.local/lib/python3.8/site-packages/pandas/core/frame.py:3807\u001b[0m, in \u001b[0;36mDataFrame.__getitem__\u001b[0;34m(self, key)\u001b[0m\n\u001b[1;32m   3805\u001b[0m \u001b[39mif\u001b[39;00m \u001b[39mself\u001b[39m\u001b[39m.\u001b[39mcolumns\u001b[39m.\u001b[39mnlevels \u001b[39m>\u001b[39m \u001b[39m1\u001b[39m:\n\u001b[1;32m   3806\u001b[0m     \u001b[39mreturn\u001b[39;00m \u001b[39mself\u001b[39m\u001b[39m.\u001b[39m_getitem_multilevel(key)\n\u001b[0;32m-> 3807\u001b[0m indexer \u001b[39m=\u001b[39m \u001b[39mself\u001b[39;49m\u001b[39m.\u001b[39;49mcolumns\u001b[39m.\u001b[39;49mget_loc(key)\n\u001b[1;32m   3808\u001b[0m \u001b[39mif\u001b[39;00m is_integer(indexer):\n\u001b[1;32m   3809\u001b[0m     indexer \u001b[39m=\u001b[39m [indexer]\n",
      "File \u001b[0;32m~/.local/lib/python3.8/site-packages/pandas/core/indexes/base.py:3809\u001b[0m, in \u001b[0;36mIndex.get_loc\u001b[0;34m(self, key, method, tolerance)\u001b[0m\n\u001b[1;32m   3804\u001b[0m         \u001b[39mraise\u001b[39;00m \u001b[39mKeyError\u001b[39;00m(key) \u001b[39mfrom\u001b[39;00m \u001b[39merr\u001b[39;00m\n\u001b[1;32m   3805\u001b[0m     \u001b[39mexcept\u001b[39;00m \u001b[39mTypeError\u001b[39;00m:\n\u001b[1;32m   3806\u001b[0m         \u001b[39m# If we have a listlike key, _check_indexing_error will raise\u001b[39;00m\n\u001b[1;32m   3807\u001b[0m         \u001b[39m#  InvalidIndexError. Otherwise we fall through and re-raise\u001b[39;00m\n\u001b[1;32m   3808\u001b[0m         \u001b[39m#  the TypeError.\u001b[39;00m\n\u001b[0;32m-> 3809\u001b[0m         \u001b[39mself\u001b[39;49m\u001b[39m.\u001b[39;49m_check_indexing_error(key)\n\u001b[1;32m   3810\u001b[0m         \u001b[39mraise\u001b[39;00m\n\u001b[1;32m   3812\u001b[0m \u001b[39m# GH#42269\u001b[39;00m\n",
      "File \u001b[0;32m~/.local/lib/python3.8/site-packages/pandas/core/indexes/base.py:5925\u001b[0m, in \u001b[0;36mIndex._check_indexing_error\u001b[0;34m(self, key)\u001b[0m\n\u001b[1;32m   5921\u001b[0m \u001b[39mdef\u001b[39;00m \u001b[39m_check_indexing_error\u001b[39m(\u001b[39mself\u001b[39m, key):\n\u001b[1;32m   5922\u001b[0m     \u001b[39mif\u001b[39;00m \u001b[39mnot\u001b[39;00m is_scalar(key):\n\u001b[1;32m   5923\u001b[0m         \u001b[39m# if key is not a scalar, directly raise an error (the code below\u001b[39;00m\n\u001b[1;32m   5924\u001b[0m         \u001b[39m# would convert to numpy arrays and raise later any way) - GH29926\u001b[39;00m\n\u001b[0;32m-> 5925\u001b[0m         \u001b[39mraise\u001b[39;00m InvalidIndexError(key)\n",
      "\u001b[0;31mInvalidIndexError\u001b[0m: (slice(None, None, None), slice(1, None, None))"
     ]
    }
   ],
   "source": [
    "x_train, y_train = train_df[:,1:], train_df[:,0]"
   ]
  }
 ],
 "metadata": {
  "kernelspec": {
   "display_name": "Python 3.8.10 64-bit",
   "language": "python",
   "name": "python3"
  },
  "language_info": {
   "codemirror_mode": {
    "name": "ipython",
    "version": 3
   },
   "file_extension": ".py",
   "mimetype": "text/x-python",
   "name": "python",
   "nbconvert_exporter": "python",
   "pygments_lexer": "ipython3",
   "version": "3.8.10"
  },
  "orig_nbformat": 4,
  "vscode": {
   "interpreter": {
    "hash": "e7370f93d1d0cde622a1f8e1c04877d8463912d04d973331ad4851f04de6915a"
   }
  }
 },
 "nbformat": 4,
 "nbformat_minor": 2
}
