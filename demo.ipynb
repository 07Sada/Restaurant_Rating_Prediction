{
 "cells": [
  {
   "cell_type": "code",
   "execution_count": 1,
   "metadata": {},
   "outputs": [],
   "source": [
    "from dataclasses import dataclass \n",
    "from restr_rating.logger import logging\n",
    "from restr_rating.exception import RatingException \n",
    "from restr_rating.entity import config_entity, artifact_entity\n",
    "from typing import Optional \n",
    "import pandas as pd \n",
    "import numpy as np \n",
    "import os, sys \n",
    "from sklearn.pipeline import Pipeline \n",
    "from sklearn.preprocessing import LabelEncoder \n",
    "from restr_rating import utils\n",
    "from restr_rating.config import TARGET_COLUMN, ENCODE_EXCLUDE_COLUMN\n",
    "\n",
    "class DataTransformation:\n",
    "    \n",
    "    def __init__(self, data_transformation_config:config_entity.DataTransformationConfig,\n",
    "                        data_ingestion_artifact:artifact_entity.DataIngestionArtifact):\n",
    "        \n",
    "        try:\n",
    "            logging.info(f\"{'>'*30} Initiated Data Transformation {'<'*30}\")\n",
    "            self.data_transformation_config = data_transformation_config\n",
    "            self.data_ingestion_artifact = data_ingestion_artifact\n",
    "        except Exception as e:\n",
    "            raise RatingException(e, sys)\n",
    "\n",
    "    "
   ]
  },
  {
   "cell_type": "code",
   "execution_count": 2,
   "metadata": {},
   "outputs": [],
   "source": [
    "def Encode(df):\n",
    "    # Initialize the LabelEncoder object\n",
    "        le = LabelEncoder()\n",
    "        \n",
    "        # Iterate through columns in the DataFrame\n",
    "        for column in df.columns[~df.columns.isin(ENCODE_EXCLUDE_COLUMN)]:\n",
    "            # Fit and transform the categorical column using LabelEncoder\n",
    "            df[column] = le.fit_transform(df[column])\n",
    "        # Return the encoded DataFrame\n",
    "        return df"
   ]
  },
  {
   "cell_type": "code",
   "execution_count": 3,
   "metadata": {},
   "outputs": [],
   "source": [
    "train_file = pd.read_csv(\"/config/workspace/artifact/02_16_2023__08_26_48/data_ingestion/dataset/train.csv\")\n",
    "test_file = pd.read_csv(\"/config/workspace/artifact/02_16_2023__08_26_48/data_ingestion/dataset/test.csv\")"
   ]
  },
  {
   "cell_type": "code",
   "execution_count": 7,
   "metadata": {},
   "outputs": [
    {
     "data": {
      "text/plain": [
       "(32989, 14)"
      ]
     },
     "execution_count": 7,
     "metadata": {},
     "output_type": "execute_result"
    }
   ],
   "source": [
    "train_file.shape"
   ]
  },
  {
   "cell_type": "code",
   "execution_count": 6,
   "metadata": {},
   "outputs": [
    {
     "name": "stdout",
     "output_type": "stream",
     "text": [
      "<class 'pandas.core.frame.DataFrame'>\n",
      "RangeIndex: 32989 entries, 0 to 32988\n",
      "Data columns (total 14 columns):\n",
      " #   Column        Non-Null Count  Dtype  \n",
      "---  ------        --------------  -----  \n",
      " 0   address       32989 non-null  int64  \n",
      " 1   name          32989 non-null  int64  \n",
      " 2   online_order  32989 non-null  int64  \n",
      " 3   book_table    32989 non-null  int64  \n",
      " 4   rate          32989 non-null  float64\n",
      " 5   votes         32989 non-null  int64  \n",
      " 6   location      32989 non-null  int64  \n",
      " 7   rest_type     32989 non-null  int64  \n",
      " 8   cuisines      32989 non-null  int64  \n",
      " 9   cost          32989 non-null  int64  \n",
      " 10  reviews_list  32989 non-null  int64  \n",
      " 11  menu_item     32989 non-null  int64  \n",
      " 12  type          32989 non-null  int64  \n",
      " 13  city          32989 non-null  int64  \n",
      "dtypes: float64(1), int64(13)\n",
      "memory usage: 3.5 MB\n"
     ]
    }
   ],
   "source": [
    "train_file.info()"
   ]
  },
  {
   "cell_type": "code",
   "execution_count": 4,
   "metadata": {},
   "outputs": [],
   "source": [
    "transformed_train_file = Encode(train_file)\n",
    "transformed_test_file = Encode(test_file)"
   ]
  },
  {
   "cell_type": "code",
   "execution_count": 5,
   "metadata": {},
   "outputs": [
    {
     "data": {
      "text/html": [
       "<div>\n",
       "<style scoped>\n",
       "    .dataframe tbody tr th:only-of-type {\n",
       "        vertical-align: middle;\n",
       "    }\n",
       "\n",
       "    .dataframe tbody tr th {\n",
       "        vertical-align: top;\n",
       "    }\n",
       "\n",
       "    .dataframe thead th {\n",
       "        text-align: right;\n",
       "    }\n",
       "</style>\n",
       "<table border=\"1\" class=\"dataframe\">\n",
       "  <thead>\n",
       "    <tr style=\"text-align: right;\">\n",
       "      <th></th>\n",
       "      <th>address</th>\n",
       "      <th>name</th>\n",
       "      <th>online_order</th>\n",
       "      <th>book_table</th>\n",
       "      <th>rate</th>\n",
       "      <th>votes</th>\n",
       "      <th>location</th>\n",
       "      <th>rest_type</th>\n",
       "      <th>cuisines</th>\n",
       "      <th>cost</th>\n",
       "      <th>reviews_list</th>\n",
       "      <th>menu_item</th>\n",
       "      <th>type</th>\n",
       "      <th>city</th>\n",
       "    </tr>\n",
       "  </thead>\n",
       "  <tbody>\n",
       "    <tr>\n",
       "      <th>0</th>\n",
       "      <td>6875</td>\n",
       "      <td>6105</td>\n",
       "      <td>1</td>\n",
       "      <td>0</td>\n",
       "      <td>3.6</td>\n",
       "      <td>23</td>\n",
       "      <td>18</td>\n",
       "      <td>24</td>\n",
       "      <td>1648</td>\n",
       "      <td>800</td>\n",
       "      <td>12157</td>\n",
       "      <td>6886</td>\n",
       "      <td>2</td>\n",
       "      <td>17</td>\n",
       "    </tr>\n",
       "    <tr>\n",
       "      <th>1</th>\n",
       "      <td>7725</td>\n",
       "      <td>6191</td>\n",
       "      <td>1</td>\n",
       "      <td>0</td>\n",
       "      <td>3.2</td>\n",
       "      <td>8</td>\n",
       "      <td>88</td>\n",
       "      <td>56</td>\n",
       "      <td>1075</td>\n",
       "      <td>400</td>\n",
       "      <td>6154</td>\n",
       "      <td>1576</td>\n",
       "      <td>4</td>\n",
       "      <td>29</td>\n",
       "    </tr>\n",
       "    <tr>\n",
       "      <th>2</th>\n",
       "      <td>4753</td>\n",
       "      <td>4869</td>\n",
       "      <td>1</td>\n",
       "      <td>1</td>\n",
       "      <td>3.8</td>\n",
       "      <td>360</td>\n",
       "      <td>35</td>\n",
       "      <td>71</td>\n",
       "      <td>977</td>\n",
       "      <td>1300</td>\n",
       "      <td>3763</td>\n",
       "      <td>2806</td>\n",
       "      <td>2</td>\n",
       "      <td>15</td>\n",
       "    </tr>\n",
       "    <tr>\n",
       "      <th>3</th>\n",
       "      <td>2157</td>\n",
       "      <td>670</td>\n",
       "      <td>0</td>\n",
       "      <td>0</td>\n",
       "      <td>3.1</td>\n",
       "      <td>7</td>\n",
       "      <td>3</td>\n",
       "      <td>73</td>\n",
       "      <td>1232</td>\n",
       "      <td>250</td>\n",
       "      <td>4230</td>\n",
       "      <td>6886</td>\n",
       "      <td>2</td>\n",
       "      <td>12</td>\n",
       "    </tr>\n",
       "    <tr>\n",
       "      <th>4</th>\n",
       "      <td>3092</td>\n",
       "      <td>4333</td>\n",
       "      <td>1</td>\n",
       "      <td>1</td>\n",
       "      <td>4.3</td>\n",
       "      <td>686</td>\n",
       "      <td>27</td>\n",
       "      <td>24</td>\n",
       "      <td>1460</td>\n",
       "      <td>1000</td>\n",
       "      <td>13511</td>\n",
       "      <td>6886</td>\n",
       "      <td>4</td>\n",
       "      <td>11</td>\n",
       "    </tr>\n",
       "    <tr>\n",
       "      <th>...</th>\n",
       "      <td>...</td>\n",
       "      <td>...</td>\n",
       "      <td>...</td>\n",
       "      <td>...</td>\n",
       "      <td>...</td>\n",
       "      <td>...</td>\n",
       "      <td>...</td>\n",
       "      <td>...</td>\n",
       "      <td>...</td>\n",
       "      <td>...</td>\n",
       "      <td>...</td>\n",
       "      <td>...</td>\n",
       "      <td>...</td>\n",
       "      <td>...</td>\n",
       "    </tr>\n",
       "    <tr>\n",
       "      <th>32984</th>\n",
       "      <td>7478</td>\n",
       "      <td>4524</td>\n",
       "      <td>1</td>\n",
       "      <td>0</td>\n",
       "      <td>4.0</td>\n",
       "      <td>121</td>\n",
       "      <td>9</td>\n",
       "      <td>73</td>\n",
       "      <td>1996</td>\n",
       "      <td>900</td>\n",
       "      <td>10694</td>\n",
       "      <td>6886</td>\n",
       "      <td>4</td>\n",
       "      <td>6</td>\n",
       "    </tr>\n",
       "    <tr>\n",
       "      <th>32985</th>\n",
       "      <td>1720</td>\n",
       "      <td>6175</td>\n",
       "      <td>1</td>\n",
       "      <td>0</td>\n",
       "      <td>2.9</td>\n",
       "      <td>24</td>\n",
       "      <td>19</td>\n",
       "      <td>24</td>\n",
       "      <td>1552</td>\n",
       "      <td>600</td>\n",
       "      <td>130</td>\n",
       "      <td>6886</td>\n",
       "      <td>4</td>\n",
       "      <td>8</td>\n",
       "    </tr>\n",
       "    <tr>\n",
       "      <th>32986</th>\n",
       "      <td>762</td>\n",
       "      <td>1724</td>\n",
       "      <td>0</td>\n",
       "      <td>1</td>\n",
       "      <td>4.3</td>\n",
       "      <td>2741</td>\n",
       "      <td>8</td>\n",
       "      <td>7</td>\n",
       "      <td>963</td>\n",
       "      <td>1300</td>\n",
       "      <td>2759</td>\n",
       "      <td>6886</td>\n",
       "      <td>2</td>\n",
       "      <td>27</td>\n",
       "    </tr>\n",
       "    <tr>\n",
       "      <th>32987</th>\n",
       "      <td>1374</td>\n",
       "      <td>1213</td>\n",
       "      <td>1</td>\n",
       "      <td>1</td>\n",
       "      <td>4.0</td>\n",
       "      <td>199</td>\n",
       "      <td>29</td>\n",
       "      <td>73</td>\n",
       "      <td>1989</td>\n",
       "      <td>700</td>\n",
       "      <td>13659</td>\n",
       "      <td>3100</td>\n",
       "      <td>2</td>\n",
       "      <td>2</td>\n",
       "    </tr>\n",
       "    <tr>\n",
       "      <th>32988</th>\n",
       "      <td>7857</td>\n",
       "      <td>3042</td>\n",
       "      <td>1</td>\n",
       "      <td>0</td>\n",
       "      <td>3.6</td>\n",
       "      <td>36</td>\n",
       "      <td>0</td>\n",
       "      <td>86</td>\n",
       "      <td>1159</td>\n",
       "      <td>200</td>\n",
       "      <td>9511</td>\n",
       "      <td>6886</td>\n",
       "      <td>2</td>\n",
       "      <td>13</td>\n",
       "    </tr>\n",
       "  </tbody>\n",
       "</table>\n",
       "<p>32989 rows × 14 columns</p>\n",
       "</div>"
      ],
      "text/plain": [
       "       address  name  online_order  book_table  rate  votes  location  \\\n",
       "0         6875  6105             1           0   3.6     23        18   \n",
       "1         7725  6191             1           0   3.2      8        88   \n",
       "2         4753  4869             1           1   3.8    360        35   \n",
       "3         2157   670             0           0   3.1      7         3   \n",
       "4         3092  4333             1           1   4.3    686        27   \n",
       "...        ...   ...           ...         ...   ...    ...       ...   \n",
       "32984     7478  4524             1           0   4.0    121         9   \n",
       "32985     1720  6175             1           0   2.9     24        19   \n",
       "32986      762  1724             0           1   4.3   2741         8   \n",
       "32987     1374  1213             1           1   4.0    199        29   \n",
       "32988     7857  3042             1           0   3.6     36         0   \n",
       "\n",
       "       rest_type  cuisines  cost  reviews_list  menu_item  type  city  \n",
       "0             24      1648   800         12157       6886     2    17  \n",
       "1             56      1075   400          6154       1576     4    29  \n",
       "2             71       977  1300          3763       2806     2    15  \n",
       "3             73      1232   250          4230       6886     2    12  \n",
       "4             24      1460  1000         13511       6886     4    11  \n",
       "...          ...       ...   ...           ...        ...   ...   ...  \n",
       "32984         73      1996   900         10694       6886     4     6  \n",
       "32985         24      1552   600           130       6886     4     8  \n",
       "32986          7       963  1300          2759       6886     2    27  \n",
       "32987         73      1989   700         13659       3100     2     2  \n",
       "32988         86      1159   200          9511       6886     2    13  \n",
       "\n",
       "[32989 rows x 14 columns]"
      ]
     },
     "execution_count": 5,
     "metadata": {},
     "output_type": "execute_result"
    }
   ],
   "source": [
    "transformed_train_file"
   ]
  },
  {
   "cell_type": "code",
   "execution_count": 5,
   "metadata": {},
   "outputs": [],
   "source": [
    "from restr_rating.entity.config_entity import DataTransformationConfig\n",
    "from restr_rating.entity.config_entity import TrainingPipelineConfig"
   ]
  },
  {
   "cell_type": "code",
   "execution_count": 6,
   "metadata": {},
   "outputs": [],
   "source": [
    "training_pipeline_config = TrainingPipelineConfig()\n",
    "data_transformation_config = DataTransformationConfig(training_pipeline_config)"
   ]
  },
  {
   "cell_type": "code",
   "execution_count": 12,
   "metadata": {},
   "outputs": [
    {
     "data": {
      "text/plain": [
       "'/config/workspace/artifact/02_16_2023__08_38_44/data_transformation/transformed/train.npz'"
      ]
     },
     "execution_count": 12,
     "metadata": {},
     "output_type": "execute_result"
    }
   ],
   "source": [
    "data_transformation_config.transformed_train_path"
   ]
  },
  {
   "cell_type": "code",
   "execution_count": 7,
   "metadata": {},
   "outputs": [],
   "source": [
    "utils.save_numpy_array_data(df=transformed_train_file, file_path=data_transformation_config.transformed_train_path)"
   ]
  },
  {
   "cell_type": "code",
   "execution_count": null,
   "metadata": {},
   "outputs": [],
   "source": [
    "utils.save_numpy_array_data(file_path=data_transformation_config.transformed_train_path, df=transformed_train_file)\n",
    "utils.save_numpy_array_data(file_path=data_transformation_config.transformed_test_path, df=transformed_test_file)"
   ]
  },
  {
   "cell_type": "code",
   "execution_count": null,
   "metadata": {},
   "outputs": [],
   "source": [
    "def initiate_data_transformation(self)->artifact_entity.DataTransformationArtifact:\n",
    "        try: \n",
    "            # reading the training and testing files\n",
    "            logging.info(\"Reading train and test files in data_transformation.py\")\n",
    "            train_df = pd.read_csv(self.data_ingestion_artifact.train_file_path)\n",
    "            test_df = pd.read_csv(self.data_ingestion_artifact.test_file_path)\n",
    "\n",
    "            # transforming training and testing dataset\n",
    "            logging.info(f\"Transforming train and test dataframes\")\n",
    "            transformed_train_path = self.Encode(train_df)\n",
    "            transformed_test_path = self.Encode(test_df)\n"
   ]
  },
  {
   "cell_type": "code",
   "execution_count": null,
   "metadata": {},
   "outputs": [],
   "source": [
    "from sklearn.preprocessing import LabelEncoder\n",
    "\n",
    "# Initialize a LabelEncoder object\n",
    "le = LabelEncoder()\n",
    "\n",
    "# Iterate through columns in the DataFrame\n",
    "for column in df.columns[~df.columns.isin(ENCODE_EXCLUDE_COLUMN)]:\n",
    "    # Check if the column contains categorical data\n",
    "    if df[column].dtype == 'object':\n",
    "        # Fit and transform the categorical column using LabelEncoder\n",
    "        df[column] = le.fit_transform(df[column])\n",
    "        \n",
    "# Return the encoded DataFrame\n",
    "return df"
   ]
  },
  {
   "cell_type": "code",
   "execution_count": null,
   "metadata": {},
   "outputs": [],
   "source": [
    "\n",
    "    def Encode(df:pd.DataFrame):\n",
    "    # Initialize the LabelEncoder object\n",
    "        le = LabelEncoder()\n",
    "        \n",
    "        # Iterate through columns in the DataFrame\n",
    "        for column in df.columns[~df.columns.isin(ENCODE_EXCLUDE_COLUMN)]:\n",
    "            # Fit and transform the categorical column using LabelEncoder\n",
    "            df[column] = le.fit_transform(df[column])\n",
    "        # Return the encoded DataFrame\n",
    "        return df"
   ]
  },
  {
   "cell_type": "code",
   "execution_count": 5,
   "metadata": {},
   "outputs": [],
   "source": [
    "def save_numpy_array_data(file_path:str):\n",
    "    dir_path = os.path.dirname(file_path)\n",
    "    os.makedirs(dir_path, exist_ok=True)\n",
    "    print(dir_path)"
   ]
  },
  {
   "cell_type": "code",
   "execution_count": 6,
   "metadata": {},
   "outputs": [
    {
     "name": "stdout",
     "output_type": "stream",
     "text": [
      "/config/workspace/artifact/02_17_2023__02_06_20/data_transformation/transformed\n"
     ]
    }
   ],
   "source": [
    "save_numpy_array_data(\"/config/workspace/artifact/02_17_2023__02_06_20/data_transformation/transformed/train.npz\")\n"
   ]
  }
 ],
 "metadata": {
  "kernelspec": {
   "display_name": "Python 3.8.10 64-bit",
   "language": "python",
   "name": "python3"
  },
  "language_info": {
   "codemirror_mode": {
    "name": "ipython",
    "version": 3
   },
   "file_extension": ".py",
   "mimetype": "text/x-python",
   "name": "python",
   "nbconvert_exporter": "python",
   "pygments_lexer": "ipython3",
   "version": "3.8.10"
  },
  "orig_nbformat": 4,
  "vscode": {
   "interpreter": {
    "hash": "e7370f93d1d0cde622a1f8e1c04877d8463912d04d973331ad4851f04de6915a"
   }
  }
 },
 "nbformat": 4,
 "nbformat_minor": 2
}
