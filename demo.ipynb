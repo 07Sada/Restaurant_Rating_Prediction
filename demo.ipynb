{
 "cells": [
  {
   "cell_type": "code",
   "execution_count": 3,
   "metadata": {},
   "outputs": [],
   "source": [
    "import pandas as pd\n",
    "from typing import Optional\n",
    "from restr_rating.exception import  RatingException\n",
    "from restr_rating.logger import logging"
   ]
  },
  {
   "cell_type": "code",
   "execution_count": 2,
   "metadata": {},
   "outputs": [],
   "source": [
    "df = pd.read_csv('zomato.csv')"
   ]
  },
  {
   "cell_type": "code",
   "execution_count": 4,
   "metadata": {},
   "outputs": [],
   "source": [
    "from restr_rating.entity import config_entity, artifact_entity"
   ]
  },
  {
   "cell_type": "code",
   "execution_count": 5,
   "metadata": {},
   "outputs": [],
   "source": [
    "from restr_rating.entity.config_entity import TrainingPipelineConfig, DataIngestionConfig\n",
    "from restr_rating.entity.artifact_entity import DataIngestionArtifact, DataValidationArtifact"
   ]
  },
  {
   "cell_type": "code",
   "execution_count": 6,
   "metadata": {},
   "outputs": [],
   "source": [
    "training_pipeline_config = TrainingPipelineConfig()\n",
    "data_ingestion_config = DataIngestionConfig(training_pipeline_config)"
   ]
  },
  {
   "cell_type": "code",
   "execution_count": 7,
   "metadata": {},
   "outputs": [],
   "source": [
    "train = data_ingestion_config.train_file_name"
   ]
  },
  {
   "cell_type": "code",
   "execution_count": 8,
   "metadata": {},
   "outputs": [
    {
     "data": {
      "text/plain": [
       "'/config/workspace/artifact/02_14_2023__03_25_49/data_ingestion/dataset/train.csv'"
      ]
     },
     "execution_count": 8,
     "metadata": {},
     "output_type": "execute_result"
    }
   ],
   "source": [
    "train"
   ]
  },
  {
   "cell_type": "code",
   "execution_count": 9,
   "metadata": {},
   "outputs": [],
   "source": [
    "df = pd.read_csv(\"/config/workspace/artifact/02_14_2023__03_10_38/data_ingestion/dataset/train.csv\")"
   ]
  },
  {
   "cell_type": "code",
   "execution_count": 11,
   "metadata": {},
   "outputs": [
    {
     "data": {
      "text/plain": [
       "url                            0.000000\n",
       "address                        0.000000\n",
       "name                           0.000000\n",
       "online_order                   0.000000\n",
       "book_table                     0.000000\n",
       "rate                           0.149735\n",
       "votes                          0.000000\n",
       "phone                          0.023228\n",
       "location                       0.000435\n",
       "rest_type                      0.004254\n",
       "dish_liked                     0.543301\n",
       "cuisines                       0.000943\n",
       "approx_cost(for two people)    0.006550\n",
       "reviews_list                   0.000000\n",
       "menu_item                      0.000000\n",
       "listed_in(type)                0.000000\n",
       "listed_in(city)                0.000000\n",
       "dtype: float64"
      ]
     },
     "execution_count": 11,
     "metadata": {},
     "output_type": "execute_result"
    }
   ],
   "source": [
    "null_report = df.isna().sum()/df.shape[0]\n",
    "null_report"
   ]
  }
 ],
 "metadata": {
  "kernelspec": {
   "display_name": "Python 3.8.10 64-bit",
   "language": "python",
   "name": "python3"
  },
  "language_info": {
   "codemirror_mode": {
    "name": "ipython",
    "version": 3
   },
   "file_extension": ".py",
   "mimetype": "text/x-python",
   "name": "python",
   "nbconvert_exporter": "python",
   "pygments_lexer": "ipython3",
   "version": "3.8.10"
  },
  "orig_nbformat": 4,
  "vscode": {
   "interpreter": {
    "hash": "e7370f93d1d0cde622a1f8e1c04877d8463912d04d973331ad4851f04de6915a"
   }
  }
 },
 "nbformat": 4,
 "nbformat_minor": 2
}
