{
 "cells": [
  {
   "cell_type": "code",
   "execution_count": 1,
   "metadata": {},
   "outputs": [],
   "source": [
    "from dataclasses import dataclass \n",
    "from restr_rating.logger import logging\n",
    "from restr_rating.exception import RatingException \n",
    "from restr_rating.entity import config_entity, artifact_entity\n",
    "from typing import Optional \n",
    "import pandas as pd \n",
    "import numpy as np \n",
    "import os, sys \n",
    "from sklearn.pipeline import Pipeline \n",
    "from sklearn.preprocessing import LabelEncoder \n",
    "from restr_rating import utils\n",
    "from restr_rating.config import TARGET_COLUMN, ENCODE_EXCLUDE_COLUMN\n",
    "\n",
    "class DataTransformation:\n",
    "    \n",
    "    def __init__(self, data_transformation_config:config_entity.DataTransformationConfig,\n",
    "                        data_ingestion_artifact:artifact_entity.DataIngestionArtifact):\n",
    "        \n",
    "        try:\n",
    "            logging.info(f\"{'>'*30} Initiated Data Transformation {'<'*30}\")\n",
    "            self.data_transformation_config = data_transformation_config\n",
    "            self.data_ingestion_artifact = data_ingestion_artifact\n",
    "        except Exception as e:\n",
    "            raise RatingException(e, sys)\n",
    "\n",
    "    "
   ]
  },
  {
   "cell_type": "code",
   "execution_count": 2,
   "metadata": {},
   "outputs": [],
   "source": [
    "def Encode(df):\n",
    "    # Initialize the LabelEncoder object\n",
    "        le = LabelEncoder()\n",
    "        \n",
    "        # Iterate through columns in the DataFrame\n",
    "        for column in df.columns[~df.columns.isin(ENCODE_EXCLUDE_COLUMN)]:\n",
    "            # Fit and transform the categorical column using LabelEncoder\n",
    "            df[column] = le.fit_transform(df[column])\n",
    "        # Return the encoded DataFrame\n",
    "        return df"
   ]
  },
  {
   "cell_type": "code",
   "execution_count": 3,
   "metadata": {},
   "outputs": [],
   "source": [
    "train_file = pd.read_csv(\"/config/workspace/artifact/02_16_2023__08_26_48/data_ingestion/dataset/train.csv\")\n",
    "test_file = pd.read_csv(\"/config/workspace/artifact/02_16_2023__08_26_48/data_ingestion/dataset/test.csv\")"
   ]
  },
  {
   "cell_type": "code",
   "execution_count": 4,
   "metadata": {},
   "outputs": [],
   "source": [
    "transformed_train_file = Encode(train_file)\n",
    "transformed_test_file = Encode(test_file)"
   ]
  },
  {
   "cell_type": "code",
   "execution_count": 5,
   "metadata": {},
   "outputs": [
    {
     "data": {
      "text/html": [
       "<div>\n",
       "<style scoped>\n",
       "    .dataframe tbody tr th:only-of-type {\n",
       "        vertical-align: middle;\n",
       "    }\n",
       "\n",
       "    .dataframe tbody tr th {\n",
       "        vertical-align: top;\n",
       "    }\n",
       "\n",
       "    .dataframe thead th {\n",
       "        text-align: right;\n",
       "    }\n",
       "</style>\n",
       "<table border=\"1\" class=\"dataframe\">\n",
       "  <thead>\n",
       "    <tr style=\"text-align: right;\">\n",
       "      <th></th>\n",
       "      <th>address</th>\n",
       "      <th>name</th>\n",
       "      <th>online_order</th>\n",
       "      <th>book_table</th>\n",
       "      <th>rate</th>\n",
       "      <th>votes</th>\n",
       "      <th>location</th>\n",
       "      <th>rest_type</th>\n",
       "      <th>cuisines</th>\n",
       "      <th>cost</th>\n",
       "      <th>reviews_list</th>\n",
       "      <th>menu_item</th>\n",
       "      <th>type</th>\n",
       "      <th>city</th>\n",
       "    </tr>\n",
       "  </thead>\n",
       "  <tbody>\n",
       "    <tr>\n",
       "      <th>0</th>\n",
       "      <td>6875</td>\n",
       "      <td>6105</td>\n",
       "      <td>1</td>\n",
       "      <td>0</td>\n",
       "      <td>3.6</td>\n",
       "      <td>23</td>\n",
       "      <td>18</td>\n",
       "      <td>24</td>\n",
       "      <td>1648</td>\n",
       "      <td>800</td>\n",
       "      <td>12157</td>\n",
       "      <td>6886</td>\n",
       "      <td>2</td>\n",
       "      <td>17</td>\n",
       "    </tr>\n",
       "    <tr>\n",
       "      <th>1</th>\n",
       "      <td>7725</td>\n",
       "      <td>6191</td>\n",
       "      <td>1</td>\n",
       "      <td>0</td>\n",
       "      <td>3.2</td>\n",
       "      <td>8</td>\n",
       "      <td>88</td>\n",
       "      <td>56</td>\n",
       "      <td>1075</td>\n",
       "      <td>400</td>\n",
       "      <td>6154</td>\n",
       "      <td>1576</td>\n",
       "      <td>4</td>\n",
       "      <td>29</td>\n",
       "    </tr>\n",
       "    <tr>\n",
       "      <th>2</th>\n",
       "      <td>4753</td>\n",
       "      <td>4869</td>\n",
       "      <td>1</td>\n",
       "      <td>1</td>\n",
       "      <td>3.8</td>\n",
       "      <td>360</td>\n",
       "      <td>35</td>\n",
       "      <td>71</td>\n",
       "      <td>977</td>\n",
       "      <td>1300</td>\n",
       "      <td>3763</td>\n",
       "      <td>2806</td>\n",
       "      <td>2</td>\n",
       "      <td>15</td>\n",
       "    </tr>\n",
       "    <tr>\n",
       "      <th>3</th>\n",
       "      <td>2157</td>\n",
       "      <td>670</td>\n",
       "      <td>0</td>\n",
       "      <td>0</td>\n",
       "      <td>3.1</td>\n",
       "      <td>7</td>\n",
       "      <td>3</td>\n",
       "      <td>73</td>\n",
       "      <td>1232</td>\n",
       "      <td>250</td>\n",
       "      <td>4230</td>\n",
       "      <td>6886</td>\n",
       "      <td>2</td>\n",
       "      <td>12</td>\n",
       "    </tr>\n",
       "    <tr>\n",
       "      <th>4</th>\n",
       "      <td>3092</td>\n",
       "      <td>4333</td>\n",
       "      <td>1</td>\n",
       "      <td>1</td>\n",
       "      <td>4.3</td>\n",
       "      <td>686</td>\n",
       "      <td>27</td>\n",
       "      <td>24</td>\n",
       "      <td>1460</td>\n",
       "      <td>1000</td>\n",
       "      <td>13511</td>\n",
       "      <td>6886</td>\n",
       "      <td>4</td>\n",
       "      <td>11</td>\n",
       "    </tr>\n",
       "    <tr>\n",
       "      <th>...</th>\n",
       "      <td>...</td>\n",
       "      <td>...</td>\n",
       "      <td>...</td>\n",
       "      <td>...</td>\n",
       "      <td>...</td>\n",
       "      <td>...</td>\n",
       "      <td>...</td>\n",
       "      <td>...</td>\n",
       "      <td>...</td>\n",
       "      <td>...</td>\n",
       "      <td>...</td>\n",
       "      <td>...</td>\n",
       "      <td>...</td>\n",
       "      <td>...</td>\n",
       "    </tr>\n",
       "    <tr>\n",
       "      <th>32984</th>\n",
       "      <td>7478</td>\n",
       "      <td>4524</td>\n",
       "      <td>1</td>\n",
       "      <td>0</td>\n",
       "      <td>4.0</td>\n",
       "      <td>121</td>\n",
       "      <td>9</td>\n",
       "      <td>73</td>\n",
       "      <td>1996</td>\n",
       "      <td>900</td>\n",
       "      <td>10694</td>\n",
       "      <td>6886</td>\n",
       "      <td>4</td>\n",
       "      <td>6</td>\n",
       "    </tr>\n",
       "    <tr>\n",
       "      <th>32985</th>\n",
       "      <td>1720</td>\n",
       "      <td>6175</td>\n",
       "      <td>1</td>\n",
       "      <td>0</td>\n",
       "      <td>2.9</td>\n",
       "      <td>24</td>\n",
       "      <td>19</td>\n",
       "      <td>24</td>\n",
       "      <td>1552</td>\n",
       "      <td>600</td>\n",
       "      <td>130</td>\n",
       "      <td>6886</td>\n",
       "      <td>4</td>\n",
       "      <td>8</td>\n",
       "    </tr>\n",
       "    <tr>\n",
       "      <th>32986</th>\n",
       "      <td>762</td>\n",
       "      <td>1724</td>\n",
       "      <td>0</td>\n",
       "      <td>1</td>\n",
       "      <td>4.3</td>\n",
       "      <td>2741</td>\n",
       "      <td>8</td>\n",
       "      <td>7</td>\n",
       "      <td>963</td>\n",
       "      <td>1300</td>\n",
       "      <td>2759</td>\n",
       "      <td>6886</td>\n",
       "      <td>2</td>\n",
       "      <td>27</td>\n",
       "    </tr>\n",
       "    <tr>\n",
       "      <th>32987</th>\n",
       "      <td>1374</td>\n",
       "      <td>1213</td>\n",
       "      <td>1</td>\n",
       "      <td>1</td>\n",
       "      <td>4.0</td>\n",
       "      <td>199</td>\n",
       "      <td>29</td>\n",
       "      <td>73</td>\n",
       "      <td>1989</td>\n",
       "      <td>700</td>\n",
       "      <td>13659</td>\n",
       "      <td>3100</td>\n",
       "      <td>2</td>\n",
       "      <td>2</td>\n",
       "    </tr>\n",
       "    <tr>\n",
       "      <th>32988</th>\n",
       "      <td>7857</td>\n",
       "      <td>3042</td>\n",
       "      <td>1</td>\n",
       "      <td>0</td>\n",
       "      <td>3.6</td>\n",
       "      <td>36</td>\n",
       "      <td>0</td>\n",
       "      <td>86</td>\n",
       "      <td>1159</td>\n",
       "      <td>200</td>\n",
       "      <td>9511</td>\n",
       "      <td>6886</td>\n",
       "      <td>2</td>\n",
       "      <td>13</td>\n",
       "    </tr>\n",
       "  </tbody>\n",
       "</table>\n",
       "<p>32989 rows × 14 columns</p>\n",
       "</div>"
      ],
      "text/plain": [
       "       address  name  online_order  book_table  rate  votes  location  \\\n",
       "0         6875  6105             1           0   3.6     23        18   \n",
       "1         7725  6191             1           0   3.2      8        88   \n",
       "2         4753  4869             1           1   3.8    360        35   \n",
       "3         2157   670             0           0   3.1      7         3   \n",
       "4         3092  4333             1           1   4.3    686        27   \n",
       "...        ...   ...           ...         ...   ...    ...       ...   \n",
       "32984     7478  4524             1           0   4.0    121         9   \n",
       "32985     1720  6175             1           0   2.9     24        19   \n",
       "32986      762  1724             0           1   4.3   2741         8   \n",
       "32987     1374  1213             1           1   4.0    199        29   \n",
       "32988     7857  3042             1           0   3.6     36         0   \n",
       "\n",
       "       rest_type  cuisines  cost  reviews_list  menu_item  type  city  \n",
       "0             24      1648   800         12157       6886     2    17  \n",
       "1             56      1075   400          6154       1576     4    29  \n",
       "2             71       977  1300          3763       2806     2    15  \n",
       "3             73      1232   250          4230       6886     2    12  \n",
       "4             24      1460  1000         13511       6886     4    11  \n",
       "...          ...       ...   ...           ...        ...   ...   ...  \n",
       "32984         73      1996   900         10694       6886     4     6  \n",
       "32985         24      1552   600           130       6886     4     8  \n",
       "32986          7       963  1300          2759       6886     2    27  \n",
       "32987         73      1989   700         13659       3100     2     2  \n",
       "32988         86      1159   200          9511       6886     2    13  \n",
       "\n",
       "[32989 rows x 14 columns]"
      ]
     },
     "execution_count": 5,
     "metadata": {},
     "output_type": "execute_result"
    }
   ],
   "source": [
    "transformed_train_file"
   ]
  },
  {
   "cell_type": "code",
   "execution_count": 5,
   "metadata": {},
   "outputs": [],
   "source": [
    "from restr_rating.entity.config_entity import DataTransformationConfig\n",
    "from restr_rating.entity.config_entity import TrainingPipelineConfig"
   ]
  },
  {
   "cell_type": "code",
   "execution_count": 6,
   "metadata": {},
   "outputs": [],
   "source": [
    "training_pipeline_config = TrainingPipelineConfig()\n",
    "data_transformation_config = DataTransformationConfig(training_pipeline_config)"
   ]
  },
  {
   "cell_type": "code",
   "execution_count": 12,
   "metadata": {},
   "outputs": [
    {
     "data": {
      "text/plain": [
       "'/config/workspace/artifact/02_16_2023__08_38_44/data_transformation/transformed/train.npz'"
      ]
     },
     "execution_count": 12,
     "metadata": {},
     "output_type": "execute_result"
    }
   ],
   "source": [
    "data_transformation_config.transformed_train_path"
   ]
  },
  {
   "cell_type": "code",
   "execution_count": 19,
   "metadata": {},
   "outputs": [],
   "source": [
    "# def save_numpy_array_data(file_path:str, df:pd.DataFrame):\n",
    "#     \"\"\"\n",
    "#     Save Pandas DataFrame data as a NumPy array to file\n",
    "#     file_path: str location of file to save\n",
    "#     df: pd.DataFrame data to save\n",
    "#     \"\"\"\n",
    "#     try:\n",
    "#         dir_path = os.path.dirname(file_path)\n",
    "#         os.makedirs(dir_path, exist_ok=True)\n",
    "#         array = df.to_numpy()  # Convert DataFrame to NumPy array\n",
    "#         with open(file_path, \"wb\") as file_obj:\n",
    "#             np.save(file_obj, array)\n",
    "#     except Exception as e:\n",
    "#         raise RatingException(e, sys)"
   ]
  },
  {
   "cell_type": "code",
   "execution_count": 7,
   "metadata": {},
   "outputs": [],
   "source": [
    "utils.save_numpy_array_data(df=transformed_train_file, file_path=data_transformation_config.transformed_train_path)"
   ]
  },
  {
   "cell_type": "code",
   "execution_count": null,
   "metadata": {},
   "outputs": [],
   "source": []
  },
  {
   "cell_type": "code",
   "execution_count": 20,
   "metadata": {},
   "outputs": [],
   "source": [
    "save_numpy_array_datasave_numpy_array_data"
   ]
  },
  {
   "cell_type": "code",
   "execution_count": 18,
   "metadata": {},
   "outputs": [
    {
     "ename": "RatingException",
     "evalue": "Error Occured python script name /config/workspace/restr_rating/utils.py line number 74 error message name 'dataframe' is not defined",
     "output_type": "error",
     "traceback": [
      "\u001b[0;31m---------------------------------------------------------------------------\u001b[0m",
      "\u001b[0;31mNameError\u001b[0m                                 Traceback (most recent call last)",
      "File \u001b[0;32m~/workspace/restr_rating/utils.py:74\u001b[0m, in \u001b[0;36msave_numpy_array_data\u001b[0;34m(file_path, df)\u001b[0m\n\u001b[1;32m     73\u001b[0m os\u001b[39m.\u001b[39mmakedirs(dir_path, exist_ok\u001b[39m=\u001b[39m\u001b[39mTrue\u001b[39;00m)\n\u001b[0;32m---> 74\u001b[0m array \u001b[39m=\u001b[39m dataframe\u001b[39m.\u001b[39mto_numpy()  \u001b[39m# Convert DataFrame to NumPy array\u001b[39;00m\n\u001b[1;32m     75\u001b[0m \u001b[39mwith\u001b[39;00m \u001b[39mopen\u001b[39m(file_path, \u001b[39m\"\u001b[39m\u001b[39mwb\u001b[39m\u001b[39m\"\u001b[39m) \u001b[39mas\u001b[39;00m file_obj:\n",
      "\u001b[0;31mNameError\u001b[0m: name 'dataframe' is not defined",
      "\nDuring handling of the above exception, another exception occurred:\n",
      "\u001b[0;31mRatingException\u001b[0m                           Traceback (most recent call last)",
      "Cell \u001b[0;32mIn[18], line 1\u001b[0m\n\u001b[0;32m----> 1\u001b[0m \u001b[43mutils\u001b[49m\u001b[38;5;241;43m.\u001b[39;49m\u001b[43msave_numpy_array_data\u001b[49m\u001b[43m(\u001b[49m\u001b[43mfile_path\u001b[49m\u001b[38;5;241;43m=\u001b[39;49m\u001b[43mdata_transformation_config\u001b[49m\u001b[38;5;241;43m.\u001b[39;49m\u001b[43mtransformed_train_path\u001b[49m\u001b[43m,\u001b[49m\u001b[43m \u001b[49m\u001b[43mdf\u001b[49m\u001b[38;5;241;43m=\u001b[39;49m\u001b[43mtransformed_train_file\u001b[49m\u001b[43m)\u001b[49m\n\u001b[1;32m      2\u001b[0m utils\u001b[38;5;241m.\u001b[39msave_numpy_array_data(file_path\u001b[38;5;241m=\u001b[39mdata_transformation_config\u001b[38;5;241m.\u001b[39mtransformed_test_path, df\u001b[38;5;241m=\u001b[39mtransformed_test_file)\n",
      "File \u001b[0;32m~/workspace/restr_rating/utils.py:78\u001b[0m, in \u001b[0;36msave_numpy_array_data\u001b[0;34m(file_path, df)\u001b[0m\n\u001b[1;32m     76\u001b[0m         np\u001b[39m.\u001b[39msave(file_obj, array)\n\u001b[1;32m     77\u001b[0m \u001b[39mexcept\u001b[39;00m \u001b[39mException\u001b[39;00m \u001b[39mas\u001b[39;00m e:\n\u001b[0;32m---> 78\u001b[0m     \u001b[39mraise\u001b[39;00m RatingException(e, sys)\n",
      "\u001b[0;31mRatingException\u001b[0m: Error Occured python script name /config/workspace/restr_rating/utils.py line number 74 error message name 'dataframe' is not defined"
     ]
    }
   ],
   "source": [
    "utils.save_numpy_array_data(file_path=data_transformation_config.transformed_train_path, df=transformed_train_file)\n",
    "utils.save_numpy_array_data(file_path=data_transformation_config.transformed_test_path, df=transformed_test_file)"
   ]
  },
  {
   "cell_type": "code",
   "execution_count": null,
   "metadata": {},
   "outputs": [],
   "source": [
    "def initiate_data_transformation(self)->artifact_entity.DataTransformationArtifact:\n",
    "        try: \n",
    "            # reading the training and testing files\n",
    "            logging.info(\"Reading train and test files in data_transformation.py\")\n",
    "            train_df = pd.read_csv(self.data_ingestion_artifact.train_file_path)\n",
    "            test_df = pd.read_csv(self.data_ingestion_artifact.test_file_path)\n",
    "\n",
    "            # transforming training and testing dataset\n",
    "            logging.info(f\"Transforming train and test dataframes\")\n",
    "            transformed_train_path = self.Encode(train_df)\n",
    "            transformed_test_path = self.Encode(test_df)\n"
   ]
  },
  {
   "cell_type": "code",
   "execution_count": 9,
   "metadata": {},
   "outputs": [
    {
     "data": {
      "image/png": "[encoded data removed]",
      "text/plain": [
       "<Figure size 640x480 with 1 Axes>"
      ]
     },
     "metadata": {},
     "output_type": "display_data"
    },
    {
     "name": "stderr",
     "output_type": "stream",
     "text": [
      "/config/.local/lib/python3.8/site-packages/sklearn/cluster/_kmeans.py:870: FutureWarning: The default value of `n_init` will change from 10 to 'auto' in 1.4. Set the value of `n_init` explicitly to suppress the warning\n",
      "  warnings.warn(\n",
      "/config/.local/lib/python3.8/site-packages/sklearn/cluster/_kmeans.py:870: FutureWarning: The default value of `n_init` will change from 10 to 'auto' in 1.4. Set the value of `n_init` explicitly to suppress the warning\n",
      "  warnings.warn(\n",
      "/config/.local/lib/python3.8/site-packages/sklearn/cluster/_kmeans.py:870: FutureWarning: The default value of `n_init` will change from 10 to 'auto' in 1.4. Set the value of `n_init` explicitly to suppress the warning\n",
      "  warnings.warn(\n",
      "/config/.local/lib/python3.8/site-packages/sklearn/cluster/_kmeans.py:870: FutureWarning: The default value of `n_init` will change from 10 to 'auto' in 1.4. Set the value of `n_init` explicitly to suppress the warning\n",
      "  warnings.warn(\n",
      "/config/.local/lib/python3.8/site-packages/sklearn/cluster/_kmeans.py:870: FutureWarning: The default value of `n_init` will change from 10 to 'auto' in 1.4. Set the value of `n_init` explicitly to suppress the warning\n",
      "  warnings.warn(\n",
      "/config/.local/lib/python3.8/site-packages/sklearn/cluster/_kmeans.py:870: FutureWarning: The default value of `n_init` will change from 10 to 'auto' in 1.4. Set the value of `n_init` explicitly to suppress the warning\n",
      "  warnings.warn(\n",
      "/config/.local/lib/python3.8/site-packages/sklearn/cluster/_kmeans.py:870: FutureWarning: The default value of `n_init` will change from 10 to 'auto' in 1.4. Set the value of `n_init` explicitly to suppress the warning\n",
      "  warnings.warn(\n",
      "/config/.local/lib/python3.8/site-packages/sklearn/cluster/_kmeans.py:870: FutureWarning: The default value of `n_init` will change from 10 to 'auto' in 1.4. Set the value of `n_init` explicitly to suppress the warning\n",
      "  warnings.warn(\n",
      "/config/.local/lib/python3.8/site-packages/sklearn/cluster/_kmeans.py:870: FutureWarning: The default value of `n_init` will change from 10 to 'auto' in 1.4. Set the value of `n_init` explicitly to suppress the warning\n",
      "  warnings.warn(\n"
     ]
    },
    {
     "data": {
      "image/png": "[encoded data removed]",
      "text/plain": [
       "<Figure size 640x480 with 1 Axes>"
      ]
     },
     "metadata": {},
     "output_type": "display_data"
    }
   ],
   "source": [
    "# Import libraries\n",
    "import numpy as np\n",
    "import matplotlib.pyplot as plt\n",
    "from sklearn.cluster import KMeans\n",
    "\n",
    "# Generate some random data\n",
    "X = np.array([[3, 1], [1, 2], [1, 4], [2, 3], [6, 8], \n",
    "                [7, 9], [9, 8], [8, 9], [10,11]])\n",
    "\n",
    "# Plot the data\n",
    "plt.scatter(X[:,0], X[:,1])\n",
    "plt.title(\"Data\")\n",
    "plt.show()\n",
    "\n",
    "# Calculate SSE for different values of k\n",
    "sse = []\n",
    "k_range = range(1,10)\n",
    "for k in k_range:\n",
    "    km = KMeans(n_clusters=k)\n",
    "    km.fit(X)\n",
    "    sse.append(km.inertia_)\n",
    "\n",
    "# Plot SSE vs k\n",
    "plt.plot(k_range,sse)\n",
    "plt.xlabel(\"Number of clusters\")\n",
    "plt.ylabel(\"SSE\")\n",
    "plt.title(\"Elbow Method\")\n",
    "plt.show()"
   ]
  },
  {
   "cell_type": "code",
   "execution_count": 11,
   "metadata": {},
   "outputs": [
    {
     "name": "stdout",
     "output_type": "stream",
     "text": [
      "Memory info: pmem(rss=657444864, vms=7492333568, shared=35373056, text=2719744, lib=0, data=6606303232, dirty=0)\n",
      "Memory use (GB):\n",
      "rss: 0.6122932434082031\n",
      "vms: 6.977779388427734\n",
      "shared: 0.0329437255859375\n",
      "text: 0.002532958984375\n",
      "lib: 0.0\n",
      "data: 6.152599334716797\n",
      "dirty: 0.0\n"
     ]
    }
   ],
   "source": [
    "import os\n",
    "import psutil\n",
    "\n",
    "# Get process id of current Python instance\n",
    "pid = os.getpid()\n",
    "\n",
    "# Get process object of current Python instance\n",
    "python_process = psutil.Process(pid)\n",
    "\n",
    "# Get memory info of current Python instance\n",
    "memoryUse = python_process.memory_info()\n",
    "\n",
    "# Print memory info in bytes\n",
    "print(\"Memory info:\", memoryUse)\n",
    "\n",
    "# Print memory info in GB by accessing the fields of the named tuple\n",
    "print(\"Memory use (GB):\")\n",
    "print(\"rss:\", memoryUse.rss / 2.**30)\n",
    "print(\"vms:\", memoryUse.vms / 2.**30)\n",
    "print(\"shared:\", memoryUse.shared / 2.**30)\n",
    "print(\"text:\", memoryUse.text / 2.**30)\n",
    "print(\"lib:\", memoryUse.lib / 2.**30)\n",
    "print(\"data:\", memoryUse.data / 2.**30)\n",
    "print(\"dirty:\", memoryUse.dirty / 2.**30)"
   ]
  }
 ],
 "metadata": {
  "kernelspec": {
   "display_name": "Python 3.8.10 64-bit",
   "language": "python",
   "name": "python3"
  },
  "language_info": {
   "codemirror_mode": {
    "name": "ipython",
    "version": 3
   },
   "file_extension": ".py",
   "mimetype": "text/x-python",
   "name": "python",
   "nbconvert_exporter": "python",
   "pygments_lexer": "ipython3",
   "version": "3.8.10"
  },
  "orig_nbformat": 4,
  "vscode": {
   "interpreter": {
    "hash": "e7370f93d1d0cde622a1f8e1c04877d8463912d04d973331ad4851f04de6915a"
   }
  }
 },
 "nbformat": 4,
 "nbformat_minor": 2
}
